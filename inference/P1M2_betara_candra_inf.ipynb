{
 "cells": [
  {
   "cell_type": "markdown",
   "metadata": {},
   "source": [
    "# A. Libraries"
   ]
  },
  {
   "cell_type": "code",
   "execution_count": 59,
   "metadata": {},
   "outputs": [],
   "source": [
    "import pandas as pd\n",
    "import numpy as np\n",
    "import pickle\n",
    "import json"
   ]
  },
  {
   "cell_type": "markdown",
   "metadata": {},
   "source": [
    "# B. Model Load"
   ]
  },
  {
   "cell_type": "code",
   "execution_count": 60,
   "metadata": {},
   "outputs": [],
   "source": [
    "with open('model_pipeline_adabost.pkl', 'rb') as file_1: # To open model with best result, in this case the model is svm with parameter \n",
    "    pipeadabost = pickle.load(file_1)"
   ]
  },
  {
   "cell_type": "markdown",
   "metadata": {},
   "source": [
    "# C. Data Inference"
   ]
  },
  {
   "cell_type": "code",
   "execution_count": 61,
   "metadata": {},
   "outputs": [],
   "source": [
    "df_inf = {'emp_id': {10: 'MKT2685',\n",
    "  11: 'TECH1769',\n",
    "  12: 'TECH7949',\n",
    "  13: 'PUR3433',\n",
    "  14: 'PUR6311'},\n",
    " 'age': {10: 31, 11: 43, 12: 28, 13: 48, 14: 52},\n",
    " 'Dept': {10: 'Marketing',\n",
    "  11: 'Technology',\n",
    "  12: 'Technology',\n",
    "  13: 'Purchasing',\n",
    "  14: 'Purchasing'},\n",
    " 'location': {10: 'City', 11: 'Suburb', 12: 'City', 13: 'Suburb', 14: 'City'},\n",
    " 'education': {10: 'UG', 11: 'PG', 12: 'UG', 13: 'PG', 14: 'PG'},\n",
    " 'recruitment_type': {10: 'Walk-in',\n",
    "  11: 'Recruitment Agency',\n",
    "  12: 'On-Campus',\n",
    "  13: 'Referral',\n",
    "  14: 'Recruitment Agency'},\n",
    " 'job_level': {10: 4, 11: 2, 12: 3, 13: 3, 14: 5},\n",
    " 'rating': {10: 4, 11: 1, 12: 4, 13: 4, 14: 1},\n",
    " 'onsite': {10: 1, 11: 0, 12: 1, 13: 1, 14: 1},\n",
    " 'awards': {10: 6, 11: 9, 12: 0, 13: 8, 14: 7},\n",
    " 'certifications': {10: 0, 11: 1, 12: 0, 13: 0, 14: 0},\n",
    " 'salary': {10: 65715, 11: 29805, 12: 42419, 13: 42419, 14: 86750},\n",
    " 'satisfied': {10: 1, 11: 1, 12: 0, 13: 1, 14: 1}}"
   ]
  },
  {
   "cell_type": "code",
   "execution_count": 62,
   "metadata": {},
   "outputs": [],
   "source": [
    "data_inf = pd.DataFrame(df_inf)"
   ]
  },
  {
   "cell_type": "code",
   "execution_count": 63,
   "metadata": {},
   "outputs": [
    {
     "name": "stdout",
     "output_type": "stream",
     "text": [
      "<class 'pandas.core.frame.DataFrame'>\n",
      "Index: 5 entries, 10 to 14\n",
      "Data columns (total 13 columns):\n",
      " #   Column            Non-Null Count  Dtype \n",
      "---  ------            --------------  ----- \n",
      " 0   emp_id            5 non-null      object\n",
      " 1   age               5 non-null      int64 \n",
      " 2   Dept              5 non-null      object\n",
      " 3   location          5 non-null      object\n",
      " 4   education         5 non-null      object\n",
      " 5   recruitment_type  5 non-null      object\n",
      " 6   job_level         5 non-null      int64 \n",
      " 7   rating            5 non-null      int64 \n",
      " 8   onsite            5 non-null      int64 \n",
      " 9   awards            5 non-null      int64 \n",
      " 10  certifications    5 non-null      int64 \n",
      " 11  salary            5 non-null      int64 \n",
      " 12  satisfied         5 non-null      int64 \n",
      "dtypes: int64(8), object(5)\n",
      "memory usage: 560.0+ bytes\n"
     ]
    },
    {
     "data": {
      "text/html": [
       "<div>\n",
       "<style scoped>\n",
       "    .dataframe tbody tr th:only-of-type {\n",
       "        vertical-align: middle;\n",
       "    }\n",
       "\n",
       "    .dataframe tbody tr th {\n",
       "        vertical-align: top;\n",
       "    }\n",
       "\n",
       "    .dataframe thead th {\n",
       "        text-align: right;\n",
       "    }\n",
       "</style>\n",
       "<table border=\"1\" class=\"dataframe\">\n",
       "  <thead>\n",
       "    <tr style=\"text-align: right;\">\n",
       "      <th></th>\n",
       "      <th>emp_id</th>\n",
       "      <th>age</th>\n",
       "      <th>Dept</th>\n",
       "      <th>location</th>\n",
       "      <th>education</th>\n",
       "      <th>recruitment_type</th>\n",
       "      <th>job_level</th>\n",
       "      <th>rating</th>\n",
       "      <th>onsite</th>\n",
       "      <th>awards</th>\n",
       "      <th>certifications</th>\n",
       "      <th>salary</th>\n",
       "      <th>satisfied</th>\n",
       "    </tr>\n",
       "  </thead>\n",
       "  <tbody>\n",
       "    <tr>\n",
       "      <th>10</th>\n",
       "      <td>MKT2685</td>\n",
       "      <td>31</td>\n",
       "      <td>Marketing</td>\n",
       "      <td>City</td>\n",
       "      <td>UG</td>\n",
       "      <td>Walk-in</td>\n",
       "      <td>4</td>\n",
       "      <td>4</td>\n",
       "      <td>1</td>\n",
       "      <td>6</td>\n",
       "      <td>0</td>\n",
       "      <td>65715</td>\n",
       "      <td>1</td>\n",
       "    </tr>\n",
       "    <tr>\n",
       "      <th>11</th>\n",
       "      <td>TECH1769</td>\n",
       "      <td>43</td>\n",
       "      <td>Technology</td>\n",
       "      <td>Suburb</td>\n",
       "      <td>PG</td>\n",
       "      <td>Recruitment Agency</td>\n",
       "      <td>2</td>\n",
       "      <td>1</td>\n",
       "      <td>0</td>\n",
       "      <td>9</td>\n",
       "      <td>1</td>\n",
       "      <td>29805</td>\n",
       "      <td>1</td>\n",
       "    </tr>\n",
       "    <tr>\n",
       "      <th>12</th>\n",
       "      <td>TECH7949</td>\n",
       "      <td>28</td>\n",
       "      <td>Technology</td>\n",
       "      <td>City</td>\n",
       "      <td>UG</td>\n",
       "      <td>On-Campus</td>\n",
       "      <td>3</td>\n",
       "      <td>4</td>\n",
       "      <td>1</td>\n",
       "      <td>0</td>\n",
       "      <td>0</td>\n",
       "      <td>42419</td>\n",
       "      <td>0</td>\n",
       "    </tr>\n",
       "    <tr>\n",
       "      <th>13</th>\n",
       "      <td>PUR3433</td>\n",
       "      <td>48</td>\n",
       "      <td>Purchasing</td>\n",
       "      <td>Suburb</td>\n",
       "      <td>PG</td>\n",
       "      <td>Referral</td>\n",
       "      <td>3</td>\n",
       "      <td>4</td>\n",
       "      <td>1</td>\n",
       "      <td>8</td>\n",
       "      <td>0</td>\n",
       "      <td>42419</td>\n",
       "      <td>1</td>\n",
       "    </tr>\n",
       "    <tr>\n",
       "      <th>14</th>\n",
       "      <td>PUR6311</td>\n",
       "      <td>52</td>\n",
       "      <td>Purchasing</td>\n",
       "      <td>City</td>\n",
       "      <td>PG</td>\n",
       "      <td>Recruitment Agency</td>\n",
       "      <td>5</td>\n",
       "      <td>1</td>\n",
       "      <td>1</td>\n",
       "      <td>7</td>\n",
       "      <td>0</td>\n",
       "      <td>86750</td>\n",
       "      <td>1</td>\n",
       "    </tr>\n",
       "  </tbody>\n",
       "</table>\n",
       "</div>"
      ],
      "text/plain": [
       "      emp_id  age        Dept location education    recruitment_type  \\\n",
       "10   MKT2685   31   Marketing     City        UG             Walk-in   \n",
       "11  TECH1769   43  Technology   Suburb        PG  Recruitment Agency   \n",
       "12  TECH7949   28  Technology     City        UG           On-Campus   \n",
       "13   PUR3433   48  Purchasing   Suburb        PG            Referral   \n",
       "14   PUR6311   52  Purchasing     City        PG  Recruitment Agency   \n",
       "\n",
       "    job_level  rating  onsite  awards  certifications  salary  satisfied  \n",
       "10          4       4       1       6               0   65715          1  \n",
       "11          2       1       0       9               1   29805          1  \n",
       "12          3       4       1       0               0   42419          0  \n",
       "13          3       4       1       8               0   42419          1  \n",
       "14          5       1       1       7               0   86750          1  "
      ]
     },
     "execution_count": 63,
     "metadata": {},
     "output_type": "execute_result"
    }
   ],
   "source": [
    "data_inf.info()\n",
    "data_inf"
   ]
  },
  {
   "cell_type": "markdown",
   "metadata": {},
   "source": [
    "# D. Predict"
   ]
  },
  {
   "cell_type": "code",
   "execution_count": 64,
   "metadata": {},
   "outputs": [
    {
     "data": {
      "text/plain": [
       "array([1, 0, 1, 0, 1], dtype=int64)"
      ]
     },
     "execution_count": 64,
     "metadata": {},
     "output_type": "execute_result"
    }
   ],
   "source": [
    "y_pred_inf = pipeadabost.predict(data_inf)\n",
    "\n",
    "y_pred_inf"
   ]
  },
  {
   "cell_type": "markdown",
   "metadata": {},
   "source": [
    "# E. Concatenate Prediction"
   ]
  },
  {
   "cell_type": "code",
   "execution_count": 65,
   "metadata": {},
   "outputs": [
    {
     "data": {
      "text/html": [
       "<div>\n",
       "<style scoped>\n",
       "    .dataframe tbody tr th:only-of-type {\n",
       "        vertical-align: middle;\n",
       "    }\n",
       "\n",
       "    .dataframe tbody tr th {\n",
       "        vertical-align: top;\n",
       "    }\n",
       "\n",
       "    .dataframe thead th {\n",
       "        text-align: right;\n",
       "    }\n",
       "</style>\n",
       "<table border=\"1\" class=\"dataframe\">\n",
       "  <thead>\n",
       "    <tr style=\"text-align: right;\">\n",
       "      <th></th>\n",
       "      <th>emp_id</th>\n",
       "      <th>age</th>\n",
       "      <th>Dept</th>\n",
       "      <th>location</th>\n",
       "      <th>education</th>\n",
       "      <th>recruitment_type</th>\n",
       "      <th>job_level</th>\n",
       "      <th>rating</th>\n",
       "      <th>onsite</th>\n",
       "      <th>awards</th>\n",
       "      <th>certifications</th>\n",
       "      <th>salary</th>\n",
       "      <th>satisfied</th>\n",
       "    </tr>\n",
       "  </thead>\n",
       "  <tbody>\n",
       "    <tr>\n",
       "      <th>10</th>\n",
       "      <td>MKT2685</td>\n",
       "      <td>31</td>\n",
       "      <td>Marketing</td>\n",
       "      <td>City</td>\n",
       "      <td>UG</td>\n",
       "      <td>Walk-in</td>\n",
       "      <td>4</td>\n",
       "      <td>4</td>\n",
       "      <td>1</td>\n",
       "      <td>6</td>\n",
       "      <td>0</td>\n",
       "      <td>65715</td>\n",
       "      <td>1</td>\n",
       "    </tr>\n",
       "    <tr>\n",
       "      <th>11</th>\n",
       "      <td>TECH1769</td>\n",
       "      <td>43</td>\n",
       "      <td>Technology</td>\n",
       "      <td>Suburb</td>\n",
       "      <td>PG</td>\n",
       "      <td>Recruitment Agency</td>\n",
       "      <td>2</td>\n",
       "      <td>1</td>\n",
       "      <td>0</td>\n",
       "      <td>9</td>\n",
       "      <td>1</td>\n",
       "      <td>29805</td>\n",
       "      <td>0</td>\n",
       "    </tr>\n",
       "    <tr>\n",
       "      <th>12</th>\n",
       "      <td>TECH7949</td>\n",
       "      <td>28</td>\n",
       "      <td>Technology</td>\n",
       "      <td>City</td>\n",
       "      <td>UG</td>\n",
       "      <td>On-Campus</td>\n",
       "      <td>3</td>\n",
       "      <td>4</td>\n",
       "      <td>1</td>\n",
       "      <td>0</td>\n",
       "      <td>0</td>\n",
       "      <td>42419</td>\n",
       "      <td>1</td>\n",
       "    </tr>\n",
       "    <tr>\n",
       "      <th>13</th>\n",
       "      <td>PUR3433</td>\n",
       "      <td>48</td>\n",
       "      <td>Purchasing</td>\n",
       "      <td>Suburb</td>\n",
       "      <td>PG</td>\n",
       "      <td>Referral</td>\n",
       "      <td>3</td>\n",
       "      <td>4</td>\n",
       "      <td>1</td>\n",
       "      <td>8</td>\n",
       "      <td>0</td>\n",
       "      <td>42419</td>\n",
       "      <td>0</td>\n",
       "    </tr>\n",
       "    <tr>\n",
       "      <th>14</th>\n",
       "      <td>PUR6311</td>\n",
       "      <td>52</td>\n",
       "      <td>Purchasing</td>\n",
       "      <td>City</td>\n",
       "      <td>PG</td>\n",
       "      <td>Recruitment Agency</td>\n",
       "      <td>5</td>\n",
       "      <td>1</td>\n",
       "      <td>1</td>\n",
       "      <td>7</td>\n",
       "      <td>0</td>\n",
       "      <td>86750</td>\n",
       "      <td>1</td>\n",
       "    </tr>\n",
       "  </tbody>\n",
       "</table>\n",
       "</div>"
      ],
      "text/plain": [
       "      emp_id  age        Dept location education    recruitment_type  \\\n",
       "10   MKT2685   31   Marketing     City        UG             Walk-in   \n",
       "11  TECH1769   43  Technology   Suburb        PG  Recruitment Agency   \n",
       "12  TECH7949   28  Technology     City        UG           On-Campus   \n",
       "13   PUR3433   48  Purchasing   Suburb        PG            Referral   \n",
       "14   PUR6311   52  Purchasing     City        PG  Recruitment Agency   \n",
       "\n",
       "    job_level  rating  onsite  awards  certifications  salary  satisfied  \n",
       "10          4       4       1       6               0   65715          1  \n",
       "11          2       1       0       9               1   29805          0  \n",
       "12          3       4       1       0               0   42419          1  \n",
       "13          3       4       1       8               0   42419          0  \n",
       "14          5       1       1       7               0   86750          1  "
      ]
     },
     "execution_count": 65,
     "metadata": {},
     "output_type": "execute_result"
    }
   ],
   "source": [
    "data_inf['satisfied'] = y_pred_inf\n",
    "data_inf"
   ]
  },
  {
   "cell_type": "markdown",
   "metadata": {},
   "source": [
    "This is result of the data dummy where has been entered. The machine learning that i have created use Support Machine Learning"
   ]
  }
 ],
 "metadata": {
  "kernelspec": {
   "display_name": "Python 3",
   "language": "python",
   "name": "python3"
  },
  "language_info": {
   "codemirror_mode": {
    "name": "ipython",
    "version": 3
   },
   "file_extension": ".py",
   "mimetype": "text/x-python",
   "name": "python",
   "nbconvert_exporter": "python",
   "pygments_lexer": "ipython3",
   "version": "3.11.5"
  }
 },
 "nbformat": 4,
 "nbformat_minor": 2
}
